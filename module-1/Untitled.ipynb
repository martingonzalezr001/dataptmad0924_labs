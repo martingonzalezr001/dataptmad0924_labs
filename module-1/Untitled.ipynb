{
 "cells": [
  {
   "cell_type": "markdown",
   "id": "4b9f6301-d7c0-49a6-a17f-24cdccee7ff2",
   "metadata": {},
   "source": [
    "nombre = input(\"Como te llamas\")\n",
    "print(\"Hola\" + nombre)\n",
    "\n"
   ]
  },
  {
   "cell_type": "code",
   "execution_count": null,
   "id": "3691b6ac-c1fe-4384-aab3-9ca7ae324f0e",
   "metadata": {},
   "outputs": [],
   "source": []
  }
 ],
 "metadata": {
  "kernelspec": {
   "display_name": "Python 3 (ipykernel)",
   "language": "python",
   "name": "python3"
  },
  "language_info": {
   "codemirror_mode": {
    "name": "ipython",
    "version": 3
   },
   "file_extension": ".py",
   "mimetype": "text/x-python",
   "name": "python",
   "nbconvert_exporter": "python",
   "pygments_lexer": "ipython3",
   "version": "3.10.14"
  }
 },
 "nbformat": 4,
 "nbformat_minor": 5
}
